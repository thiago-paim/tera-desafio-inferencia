{
 "cells": [
  {
   "cell_type": "markdown",
   "id": "645d5cf0-1bef-4e1e-bb1f-688d3a63af9e",
   "metadata": {},
   "source": [
    "Tratamento dos dados do dataset \"DEMO_PHQ.csv\"\n",
    "\n",
    "Realizados: \n",
    "- Verificação de respostas nulas no PHQ-9\n",
    "- Tratamento de respostas `7` e/ou `9` no PHQ-9\n",
    "- Cálculo da coluna `phq9`\n",
    "- Cálculo da coluna `phq_grp`\n",
    "\n",
    "Outras possibilidades\n",
    "- Tratamento da coluna `INDFMINC`"
   ]
  },
  {
   "cell_type": "code",
   "execution_count": null,
   "id": "fee9d04f-0fc6-41c8-9938-fde023104a1a",
   "metadata": {},
   "outputs": [],
   "source": [
    "import numpy as np\n",
    "import pandas as pd\n",
    "import missingno as msno\n",
    "\n",
    "# Oculta warnings do notebook\n",
    "import warnings\n",
    "warnings.filterwarnings('ignore')\n",
    "\n",
    "# Configurações para facilitar a visualização dos dataframes\n",
    "pd.set_option('display.max_rows', 15)\n",
    "pd.set_option('display.max_columns', None)\n",
    "pd.options.display.float_format = '{:,.2f}'.format"
   ]
  },
  {
   "cell_type": "code",
   "execution_count": null,
   "id": "82a133a0-c8e8-425d-9f2c-818f140d4634",
   "metadata": {},
   "outputs": [],
   "source": [
    "# Carregando dados demográficos e do PHQ\n",
    "dataset_path = '../data/raw/'\n",
    "demo_phq_dataset_name = 'DEMO_PHQ.csv'\n",
    "\n",
    "demo_phq = pd.read_csv(f\"{dataset_path}{demo_phq_dataset_name}\", sep=',')"
   ]
  },
  {
   "cell_type": "code",
   "execution_count": null,
   "id": "b1de162c-0a68-425e-8a9e-0eacba09e54d",
   "metadata": {},
   "outputs": [],
   "source": [
    "# Checando ocorrencias de respostas 7 e 9 no PHQ-9\n",
    "print(f'Ocorrências de resposta 7: {(demo_phq[phq_cols] == 7.0).sum().sum()}')\n",
    "print(f'Ocorrências de resposta 9: {(demo_phq[phq_cols] == 9.0).sum().sum()}')"
   ]
  },
  {
   "cell_type": "code",
   "execution_count": null,
   "id": "9ec0f806-79df-456b-b6cb-ab8f7db2efb4",
   "metadata": {},
   "outputs": [],
   "source": [
    "# Como estes valores significam uma ausencia de resposta, eles serão removidos para não influenciar nos cálculos\n",
    "demo_phq[phq_cols] = demo_phq[phq_cols].replace([7.0, 9.0], np.nan)"
   ]
  },
  {
   "cell_type": "code",
   "execution_count": null,
   "id": "e3d8af2a-3bd4-4cbc-833a-b6daa446662e",
   "metadata": {},
   "outputs": [],
   "source": [
    "# Calculando score do PHQ-9\n",
    "demo_phq['PHQ9'] = demo_phq[phq_cols].sum(axis=1)"
   ]
  },
  {
   "cell_type": "code",
   "execution_count": null,
   "id": "2ea672ff-97d1-49f2-8f68-4acef5913e4d",
   "metadata": {},
   "outputs": [],
   "source": [
    "# Calculando grupo de sintomas de depressão\n",
    "def get_phq9_group(score):\n",
    "    if score < 5: return 0  # sem sintomas\n",
    "    if score < 10: return 1  # sintomas leves\n",
    "    if score < 15: return 2  # sintomas moderados\n",
    "    if score < 19: return 3  # sintomas moderadamente severos\n",
    "    return 4  # sintomas severos\n",
    "\n",
    "demo_phq['PHQ_GRP'] = demo_phq['PHQ9'].map(get_phq9_group)"
   ]
  },
  {
   "cell_type": "code",
   "execution_count": null,
   "id": "c0314809-8540-489a-91bf-eea62b518d3b",
   "metadata": {},
   "outputs": [],
   "source": [
    "# Carregando dados do PAG e HEI\n",
    "pag_hei_dataset_name = 'PAG_HEI.csv'\n",
    "pag_hei = pd.read_csv(f\"{dataset_path}{pag_hei_dataset_name}\", sep=',')"
   ]
  },
  {
   "cell_type": "code",
   "execution_count": null,
   "id": "c5ecb911-07f6-4e73-9188-2b8ec52dd053",
   "metadata": {},
   "outputs": [],
   "source": [
    "# Mesclando dados de ambos datasets\n",
    "df = pd.merge(demo_phq, pag_hei, on=\"SEQN\", how=\"left\")\n",
    "\n",
    "# Checando dimensões após mesclagem\n",
    "print(\"demo_phq:\", demo_phq.shape)\n",
    "print(\"pag_hei:\", pag_hei.shape)\n",
    "print(\"df mesclado:\", df.shape)"
   ]
  },
  {
   "cell_type": "code",
   "execution_count": null,
   "id": "bcb50000-fe40-4546-8180-08cab67d3436",
   "metadata": {},
   "outputs": [],
   "source": [
    "# Exportando o dataframe mesclado\n",
    "output_path = '../data/output/'\n",
    "output_file = 'treated_dataset.csv'\n",
    "\n",
    "df.to_csv(f\"{output_path}{output_file}\", sep=',', encoding='utf-8', index = False)"
   ]
  }
 ],
 "metadata": {
  "kernelspec": {
   "display_name": "Python 3 (ipykernel)",
   "language": "python",
   "name": "python3"
  },
  "language_info": {
   "codemirror_mode": {
    "name": "ipython",
    "version": 3
   },
   "file_extension": ".py",
   "mimetype": "text/x-python",
   "name": "python",
   "nbconvert_exporter": "python",
   "pygments_lexer": "ipython3",
   "version": "3.8.13"
  },
  "vscode": {
   "interpreter": {
    "hash": "916dbcbb3f70747c44a77c7bcd40155683ae19c65e1c03b4aa3499c5328201f1"
   }
  }
 },
 "nbformat": 4,
 "nbformat_minor": 5
}
