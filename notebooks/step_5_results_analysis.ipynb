{
 "cells": [
  {
   "cell_type": "markdown",
   "id": "87e32686-9309-4e55-960b-ed8ab7817440",
   "metadata": {},
   "source": [
    "# Análise Crítica dos Resultados"
   ]
  },
  {
   "cell_type": "markdown",
   "id": "4bc1e144-bb14-42f1-932c-534f4d01e295",
   "metadata": {},
   "source": [
    "## Vieses e Questionamentos sobre os dados\n",
    "\n",
    "- INDFMINC\n",
    "    - Por que algumas respostas estão apenas acima ou abaixo de 20k?\n",
    "\n",
    "- HEI2015C5_WHOLEGRAIN e HEI2015C6_TOTALDAIRY\n",
    "    - Apresentam valor máximo de 5, mas supostamente iriam até 10. Isto acaba influenciando também nos valores de HEI2015_TOTAL_SCORE\n",
    "    \n",
    "\n",
    "    "
   ]
  }
 ],
 "metadata": {
  "kernelspec": {
   "display_name": "Python 3 (ipykernel)",
   "language": "python",
   "name": "python3"
  },
  "language_info": {
   "codemirror_mode": {
    "name": "ipython",
    "version": 3
   },
   "file_extension": ".py",
   "mimetype": "text/x-python",
   "name": "python",
   "nbconvert_exporter": "python",
   "pygments_lexer": "ipython3",
   "version": "3.8.13"
  }
 },
 "nbformat": 4,
 "nbformat_minor": 5
}
